{
 "cells": [
  {
   "cell_type": "markdown",
   "metadata": {},
   "source": [
    "# Machine Learning Model on Real Estate Correlation\n",
    "\n",
    "In this file, we will use several machine learning algorithms to evaluate whether changes in the house prices in cities outside the GTA correlate to changes in the house prices in the GTA."
   ]
  },
  {
   "cell_type": "code",
   "execution_count": 30,
   "metadata": {},
   "outputs": [],
   "source": [
    "#Importing Libraries\n",
    "import numpy as np\n",
    "import pandas as pd\n",
    "# import hvplot.pandas\n",
    "%matplotlib inline\n",
    "from sklearn import metrics\n",
    "import matplotlib.pyplot as plt"
   ]
  },
  {
   "cell_type": "markdown",
   "metadata": {},
   "source": [
    "## Data Manipulation"
   ]
  },
  {
   "cell_type": "code",
   "execution_count": 2,
   "metadata": {},
   "outputs": [],
   "source": [
    "def format_function(df):\n",
    "    df = df.reset_index()\n",
    "    df['Date'] = pd.to_datetime(df['Date'])\n",
    "    df.set_index('Date', inplace=True)\n",
    "    return df\n",
    "# convert to datetime\n",
    "# dataframe_name['Date'] = pd.to_datetime(dataframe_name['date'])\n",
    "# dataframe_name.set_index('Date', inplace=True)\n",
    "# dataframe_name = dataframe_name.drop(columns=[\"date\", \"realtime_start\", \"realtime_end\"]).sort_index()\n",
    "# dataframe_name['value'] = pd.to_numeric(dataframe_name['value'],errors='coerce')\n",
    "# return dataframe_name"
   ]
  },
  {
   "cell_type": "code",
   "execution_count": 3,
   "metadata": {},
   "outputs": [
    {
     "data": {
      "text/html": [
       "<div>\n",
       "<style scoped>\n",
       "    .dataframe tbody tr th:only-of-type {\n",
       "        vertical-align: middle;\n",
       "    }\n",
       "\n",
       "    .dataframe tbody tr th {\n",
       "        vertical-align: top;\n",
       "    }\n",
       "\n",
       "    .dataframe thead th {\n",
       "        text-align: right;\n",
       "    }\n",
       "</style>\n",
       "<table border=\"1\" class=\"dataframe\">\n",
       "  <thead>\n",
       "    <tr style=\"text-align: right;\">\n",
       "      <th></th>\n",
       "      <th>Barrie Composite House Price</th>\n",
       "    </tr>\n",
       "    <tr>\n",
       "      <th>Date</th>\n",
       "      <th></th>\n",
       "    </tr>\n",
       "  </thead>\n",
       "  <tbody>\n",
       "    <tr>\n",
       "      <th>2005-01-01</th>\n",
       "      <td>210200.0</td>\n",
       "    </tr>\n",
       "    <tr>\n",
       "      <th>2005-02-01</th>\n",
       "      <td>212300.0</td>\n",
       "    </tr>\n",
       "    <tr>\n",
       "      <th>2005-03-01</th>\n",
       "      <td>214100.0</td>\n",
       "    </tr>\n",
       "    <tr>\n",
       "      <th>2005-04-01</th>\n",
       "      <td>216100.0</td>\n",
       "    </tr>\n",
       "    <tr>\n",
       "      <th>2005-05-01</th>\n",
       "      <td>217200.0</td>\n",
       "    </tr>\n",
       "  </tbody>\n",
       "</table>\n",
       "</div>"
      ],
      "text/plain": [
       "            Barrie Composite House Price\n",
       "Date                                    \n",
       "2005-01-01                      210200.0\n",
       "2005-02-01                      212300.0\n",
       "2005-03-01                      214100.0\n",
       "2005-04-01                      216100.0\n",
       "2005-05-01                      217200.0"
      ]
     },
     "execution_count": 3,
     "metadata": {},
     "output_type": "execute_result"
    }
   ],
   "source": [
    "# Read csv contains house prices in Barrie\n",
    "df_barrie = pd.read_csv(\"Data/House_price_Barrie.csv\", index_col=\"Date\", infer_datetime_format=True, parse_dates=True)\n",
    "\n",
    "# Drop null values\n",
    "df_barrie.dropna(inplace=True)\n",
    "df_barrie = df_barrie[[\"Composite_Benchmark_SA_Barrie\"]]\n",
    "df_barrie = df_barrie.rename(columns={\"Composite_Benchmark_SA_Barrie\": \"Barrie Composite House Price\"})\n",
    "df_barrie.head()\n",
    "#convert index to datetime\n",
    "# df = df.reset_index()\n",
    "# df['Date'] = pd.to_datetime(df['Date'])\n",
    "# df.head()"
   ]
  },
  {
   "cell_type": "code",
   "execution_count": 4,
   "metadata": {},
   "outputs": [
    {
     "data": {
      "text/html": [
       "<div>\n",
       "<style scoped>\n",
       "    .dataframe tbody tr th:only-of-type {\n",
       "        vertical-align: middle;\n",
       "    }\n",
       "\n",
       "    .dataframe tbody tr th {\n",
       "        vertical-align: top;\n",
       "    }\n",
       "\n",
       "    .dataframe thead th {\n",
       "        text-align: right;\n",
       "    }\n",
       "</style>\n",
       "<table border=\"1\" class=\"dataframe\">\n",
       "  <thead>\n",
       "    <tr style=\"text-align: right;\">\n",
       "      <th></th>\n",
       "      <th>Hamilton Composite House Price</th>\n",
       "    </tr>\n",
       "    <tr>\n",
       "      <th>Date</th>\n",
       "      <th></th>\n",
       "    </tr>\n",
       "  </thead>\n",
       "  <tbody>\n",
       "    <tr>\n",
       "      <th>2020-05-01</th>\n",
       "      <td>656000.0</td>\n",
       "    </tr>\n",
       "    <tr>\n",
       "      <th>2020-06-01</th>\n",
       "      <td>672600.0</td>\n",
       "    </tr>\n",
       "    <tr>\n",
       "      <th>2020-07-01</th>\n",
       "      <td>685100.0</td>\n",
       "    </tr>\n",
       "    <tr>\n",
       "      <th>2020-08-01</th>\n",
       "      <td>702000.0</td>\n",
       "    </tr>\n",
       "    <tr>\n",
       "      <th>2020-09-01</th>\n",
       "      <td>717700.0</td>\n",
       "    </tr>\n",
       "  </tbody>\n",
       "</table>\n",
       "</div>"
      ],
      "text/plain": [
       "            Hamilton Composite House Price\n",
       "Date                                      \n",
       "2020-05-01                        656000.0\n",
       "2020-06-01                        672600.0\n",
       "2020-07-01                        685100.0\n",
       "2020-08-01                        702000.0\n",
       "2020-09-01                        717700.0"
      ]
     },
     "execution_count": 4,
     "metadata": {},
     "output_type": "execute_result"
    }
   ],
   "source": [
    "# Read csv contains house prices in Hamilton\n",
    "df_hamilton = pd.read_csv(\"Data/House_price_Hamilton.csv\", index_col=\"Date\", infer_datetime_format=True, parse_dates=True)\n",
    "\n",
    "# Drop null values\n",
    "df_hamilton.dropna(inplace=True)\n",
    "df_hamilton = df_hamilton[[\"Composite_Benchmark_SA_Hamilton\"]]\n",
    "df_hamilton = df_hamilton.rename(columns={\"Composite_Benchmark_SA_Hamilton\": \"Hamilton Composite House Price\"})\n",
    "df_hamilton.tail()"
   ]
  },
  {
   "cell_type": "code",
   "execution_count": 5,
   "metadata": {},
   "outputs": [
    {
     "data": {
      "text/html": [
       "<div>\n",
       "<style scoped>\n",
       "    .dataframe tbody tr th:only-of-type {\n",
       "        vertical-align: middle;\n",
       "    }\n",
       "\n",
       "    .dataframe tbody tr th {\n",
       "        vertical-align: top;\n",
       "    }\n",
       "\n",
       "    .dataframe thead th {\n",
       "        text-align: right;\n",
       "    }\n",
       "</style>\n",
       "<table border=\"1\" class=\"dataframe\">\n",
       "  <thead>\n",
       "    <tr style=\"text-align: right;\">\n",
       "      <th></th>\n",
       "      <th>Kitchener Composite House Price</th>\n",
       "    </tr>\n",
       "    <tr>\n",
       "      <th>Date</th>\n",
       "      <th></th>\n",
       "    </tr>\n",
       "  </thead>\n",
       "  <tbody>\n",
       "    <tr>\n",
       "      <th>2020-05-01</th>\n",
       "      <td>548800.0</td>\n",
       "    </tr>\n",
       "    <tr>\n",
       "      <th>2020-06-01</th>\n",
       "      <td>561100.0</td>\n",
       "    </tr>\n",
       "    <tr>\n",
       "      <th>2020-07-01</th>\n",
       "      <td>572000.0</td>\n",
       "    </tr>\n",
       "    <tr>\n",
       "      <th>2020-08-01</th>\n",
       "      <td>583700.0</td>\n",
       "    </tr>\n",
       "    <tr>\n",
       "      <th>2020-09-01</th>\n",
       "      <td>588800.0</td>\n",
       "    </tr>\n",
       "  </tbody>\n",
       "</table>\n",
       "</div>"
      ],
      "text/plain": [
       "            Kitchener Composite House Price\n",
       "Date                                       \n",
       "2020-05-01                         548800.0\n",
       "2020-06-01                         561100.0\n",
       "2020-07-01                         572000.0\n",
       "2020-08-01                         583700.0\n",
       "2020-09-01                         588800.0"
      ]
     },
     "execution_count": 5,
     "metadata": {},
     "output_type": "execute_result"
    }
   ],
   "source": [
    "# Read csv contains house prices in Kitchener\n",
    "df_kitchener = pd.read_csv(\"Data/House_price_Kitchener.csv\", index_col=\"Date\", infer_datetime_format=True, parse_dates=True)\n",
    "\n",
    "# Drop null values\n",
    "df_kitchener.dropna(inplace=True)\n",
    "df_kitchener = df_kitchener[[\"Composite_Benchmark_SA_Kitchener\"]]\n",
    "df_kitchener = df_kitchener.rename(columns={\"Composite_Benchmark_SA_Kitchener\": \"Kitchener Composite House Price\"})\n",
    "df_kitchener.tail()"
   ]
  },
  {
   "cell_type": "code",
   "execution_count": 6,
   "metadata": {},
   "outputs": [
    {
     "data": {
      "text/html": [
       "<div>\n",
       "<style scoped>\n",
       "    .dataframe tbody tr th:only-of-type {\n",
       "        vertical-align: middle;\n",
       "    }\n",
       "\n",
       "    .dataframe tbody tr th {\n",
       "        vertical-align: top;\n",
       "    }\n",
       "\n",
       "    .dataframe thead th {\n",
       "        text-align: right;\n",
       "    }\n",
       "</style>\n",
       "<table border=\"1\" class=\"dataframe\">\n",
       "  <thead>\n",
       "    <tr style=\"text-align: right;\">\n",
       "      <th></th>\n",
       "      <th>Niagara Composite House Price</th>\n",
       "    </tr>\n",
       "    <tr>\n",
       "      <th>Date</th>\n",
       "      <th></th>\n",
       "    </tr>\n",
       "  </thead>\n",
       "  <tbody>\n",
       "    <tr>\n",
       "      <th>2020-05-01</th>\n",
       "      <td>451700.0</td>\n",
       "    </tr>\n",
       "    <tr>\n",
       "      <th>2020-06-01</th>\n",
       "      <td>459700.0</td>\n",
       "    </tr>\n",
       "    <tr>\n",
       "      <th>2020-07-01</th>\n",
       "      <td>469400.0</td>\n",
       "    </tr>\n",
       "    <tr>\n",
       "      <th>2020-08-01</th>\n",
       "      <td>481300.0</td>\n",
       "    </tr>\n",
       "    <tr>\n",
       "      <th>2020-09-01</th>\n",
       "      <td>490300.0</td>\n",
       "    </tr>\n",
       "  </tbody>\n",
       "</table>\n",
       "</div>"
      ],
      "text/plain": [
       "            Niagara Composite House Price\n",
       "Date                                     \n",
       "2020-05-01                       451700.0\n",
       "2020-06-01                       459700.0\n",
       "2020-07-01                       469400.0\n",
       "2020-08-01                       481300.0\n",
       "2020-09-01                       490300.0"
      ]
     },
     "execution_count": 6,
     "metadata": {},
     "output_type": "execute_result"
    }
   ],
   "source": [
    "# Read csv contains house prices in Niagara\n",
    "df_niagara = pd.read_csv(\"Data/House_price_Niagara.csv\", index_col=\"Date\", infer_datetime_format=True, parse_dates=True)\n",
    "\n",
    "# Drop null values\n",
    "df_niagara.dropna(inplace=True)\n",
    "df_niagara = df_niagara[[\"Composite_Benchmark_SA_Niagara\"]]\n",
    "df_niagara = df_niagara.rename(columns={\"Composite_Benchmark_SA_Niagara\": \"Niagara Composite House Price\"})\n",
    "df_niagara.tail()"
   ]
  },
  {
   "cell_type": "code",
   "execution_count": 7,
   "metadata": {},
   "outputs": [
    {
     "data": {
      "text/html": [
       "<div>\n",
       "<style scoped>\n",
       "    .dataframe tbody tr th:only-of-type {\n",
       "        vertical-align: middle;\n",
       "    }\n",
       "\n",
       "    .dataframe tbody tr th {\n",
       "        vertical-align: top;\n",
       "    }\n",
       "\n",
       "    .dataframe thead th {\n",
       "        text-align: right;\n",
       "    }\n",
       "</style>\n",
       "<table border=\"1\" class=\"dataframe\">\n",
       "  <thead>\n",
       "    <tr style=\"text-align: right;\">\n",
       "      <th></th>\n",
       "      <th>Peterborough Composite House Price</th>\n",
       "    </tr>\n",
       "    <tr>\n",
       "      <th>Date</th>\n",
       "      <th></th>\n",
       "    </tr>\n",
       "  </thead>\n",
       "  <tbody>\n",
       "    <tr>\n",
       "      <th>2020-05-01</th>\n",
       "      <td>440500.0</td>\n",
       "    </tr>\n",
       "    <tr>\n",
       "      <th>2020-06-01</th>\n",
       "      <td>445700.0</td>\n",
       "    </tr>\n",
       "    <tr>\n",
       "      <th>2020-07-01</th>\n",
       "      <td>456000.0</td>\n",
       "    </tr>\n",
       "    <tr>\n",
       "      <th>2020-08-01</th>\n",
       "      <td>471100.0</td>\n",
       "    </tr>\n",
       "    <tr>\n",
       "      <th>2020-09-01</th>\n",
       "      <td>484200.0</td>\n",
       "    </tr>\n",
       "  </tbody>\n",
       "</table>\n",
       "</div>"
      ],
      "text/plain": [
       "            Peterborough Composite House Price\n",
       "Date                                          \n",
       "2020-05-01                            440500.0\n",
       "2020-06-01                            445700.0\n",
       "2020-07-01                            456000.0\n",
       "2020-08-01                            471100.0\n",
       "2020-09-01                            484200.0"
      ]
     },
     "execution_count": 7,
     "metadata": {},
     "output_type": "execute_result"
    }
   ],
   "source": [
    "# Read csv contains house prices in Peterborough\n",
    "df_pete = pd.read_csv(\"Data/House_price_Peterborough.csv\", index_col=\"Date\", infer_datetime_format=True, parse_dates=True)\n",
    "\n",
    "# Drop null values\n",
    "df_pete.dropna(inplace=True)\n",
    "df_pete = df_pete[[\"Composite_Benchmark_SA_Peterborough\"]]\n",
    "df_pete = df_pete.rename(columns={\"Composite_Benchmark_SA_Peterborough\": \"Peterborough Composite House Price\"})\n",
    "df_pete.tail()"
   ]
  },
  {
   "cell_type": "code",
   "execution_count": 8,
   "metadata": {},
   "outputs": [
    {
     "data": {
      "text/html": [
       "<div>\n",
       "<style scoped>\n",
       "    .dataframe tbody tr th:only-of-type {\n",
       "        vertical-align: middle;\n",
       "    }\n",
       "\n",
       "    .dataframe tbody tr th {\n",
       "        vertical-align: top;\n",
       "    }\n",
       "\n",
       "    .dataframe thead th {\n",
       "        text-align: right;\n",
       "    }\n",
       "</style>\n",
       "<table border=\"1\" class=\"dataframe\">\n",
       "  <thead>\n",
       "    <tr style=\"text-align: right;\">\n",
       "      <th></th>\n",
       "      <th>GTA Composite House Price</th>\n",
       "    </tr>\n",
       "    <tr>\n",
       "      <th>Date</th>\n",
       "      <th></th>\n",
       "    </tr>\n",
       "  </thead>\n",
       "  <tbody>\n",
       "    <tr>\n",
       "      <th>2020-05-01</th>\n",
       "      <td>860400.0</td>\n",
       "    </tr>\n",
       "    <tr>\n",
       "      <th>2020-06-01</th>\n",
       "      <td>857500.0</td>\n",
       "    </tr>\n",
       "    <tr>\n",
       "      <th>2020-07-01</th>\n",
       "      <td>878100.0</td>\n",
       "    </tr>\n",
       "    <tr>\n",
       "      <th>2020-08-01</th>\n",
       "      <td>889800.0</td>\n",
       "    </tr>\n",
       "    <tr>\n",
       "      <th>2020-09-01</th>\n",
       "      <td>899500.0</td>\n",
       "    </tr>\n",
       "  </tbody>\n",
       "</table>\n",
       "</div>"
      ],
      "text/plain": [
       "            GTA Composite House Price\n",
       "Date                                 \n",
       "2020-05-01                   860400.0\n",
       "2020-06-01                   857500.0\n",
       "2020-07-01                   878100.0\n",
       "2020-08-01                   889800.0\n",
       "2020-09-01                   899500.0"
      ]
     },
     "execution_count": 8,
     "metadata": {},
     "output_type": "execute_result"
    }
   ],
   "source": [
    "# Read csv contains house prices in GTA:\n",
    "df_gta = pd.read_csv(\"Data/House_price_GTA.csv\", index_col=\"Date\", infer_datetime_format=True, parse_dates=True)\n",
    "\n",
    "# Drop null values\n",
    "df_gta.dropna(inplace=True)\n",
    "df_gta = df_gta[[\"Composite_Benchmark_SA_GTA\"]]\n",
    "df_gta = df_gta.rename(columns={\"Composite_Benchmark_SA_GTA\": \"GTA Composite House Price\"})\n",
    "df_gta.tail()"
   ]
  },
  {
   "cell_type": "markdown",
   "metadata": {},
   "source": [
    "## Concat Dataframes"
   ]
  },
  {
   "cell_type": "code",
   "execution_count": 9,
   "metadata": {},
   "outputs": [
    {
     "data": {
      "text/html": [
       "<div>\n",
       "<style scoped>\n",
       "    .dataframe tbody tr th:only-of-type {\n",
       "        vertical-align: middle;\n",
       "    }\n",
       "\n",
       "    .dataframe tbody tr th {\n",
       "        vertical-align: top;\n",
       "    }\n",
       "\n",
       "    .dataframe thead th {\n",
       "        text-align: right;\n",
       "    }\n",
       "</style>\n",
       "<table border=\"1\" class=\"dataframe\">\n",
       "  <thead>\n",
       "    <tr style=\"text-align: right;\">\n",
       "      <th></th>\n",
       "      <th>GTA Composite House Price</th>\n",
       "      <th>Barrie Composite House Price</th>\n",
       "      <th>Hamilton Composite House Price</th>\n",
       "      <th>Kitchener Composite House Price</th>\n",
       "      <th>Niagara Composite House Price</th>\n",
       "      <th>Peterborough Composite House Price</th>\n",
       "    </tr>\n",
       "    <tr>\n",
       "      <th>Date</th>\n",
       "      <th></th>\n",
       "      <th></th>\n",
       "      <th></th>\n",
       "      <th></th>\n",
       "      <th></th>\n",
       "      <th></th>\n",
       "    </tr>\n",
       "  </thead>\n",
       "  <tbody>\n",
       "    <tr>\n",
       "      <th>2020-05-01</th>\n",
       "      <td>860400.0</td>\n",
       "      <td>512900.0</td>\n",
       "      <td>656000.0</td>\n",
       "      <td>548800.0</td>\n",
       "      <td>451700.0</td>\n",
       "      <td>440500.0</td>\n",
       "    </tr>\n",
       "    <tr>\n",
       "      <th>2020-06-01</th>\n",
       "      <td>857500.0</td>\n",
       "      <td>520300.0</td>\n",
       "      <td>672600.0</td>\n",
       "      <td>561100.0</td>\n",
       "      <td>459700.0</td>\n",
       "      <td>445700.0</td>\n",
       "    </tr>\n",
       "    <tr>\n",
       "      <th>2020-07-01</th>\n",
       "      <td>878100.0</td>\n",
       "      <td>525900.0</td>\n",
       "      <td>685100.0</td>\n",
       "      <td>572000.0</td>\n",
       "      <td>469400.0</td>\n",
       "      <td>456000.0</td>\n",
       "    </tr>\n",
       "    <tr>\n",
       "      <th>2020-08-01</th>\n",
       "      <td>889800.0</td>\n",
       "      <td>537800.0</td>\n",
       "      <td>702000.0</td>\n",
       "      <td>583700.0</td>\n",
       "      <td>481300.0</td>\n",
       "      <td>471100.0</td>\n",
       "    </tr>\n",
       "    <tr>\n",
       "      <th>2020-09-01</th>\n",
       "      <td>899500.0</td>\n",
       "      <td>549700.0</td>\n",
       "      <td>717700.0</td>\n",
       "      <td>588800.0</td>\n",
       "      <td>490300.0</td>\n",
       "      <td>484200.0</td>\n",
       "    </tr>\n",
       "  </tbody>\n",
       "</table>\n",
       "</div>"
      ],
      "text/plain": [
       "            GTA Composite House Price  Barrie Composite House Price  \\\n",
       "Date                                                                  \n",
       "2020-05-01                   860400.0                      512900.0   \n",
       "2020-06-01                   857500.0                      520300.0   \n",
       "2020-07-01                   878100.0                      525900.0   \n",
       "2020-08-01                   889800.0                      537800.0   \n",
       "2020-09-01                   899500.0                      549700.0   \n",
       "\n",
       "            Hamilton Composite House Price  Kitchener Composite House Price  \\\n",
       "Date                                                                          \n",
       "2020-05-01                        656000.0                         548800.0   \n",
       "2020-06-01                        672600.0                         561100.0   \n",
       "2020-07-01                        685100.0                         572000.0   \n",
       "2020-08-01                        702000.0                         583700.0   \n",
       "2020-09-01                        717700.0                         588800.0   \n",
       "\n",
       "            Niagara Composite House Price  Peterborough Composite House Price  \n",
       "Date                                                                           \n",
       "2020-05-01                       451700.0                            440500.0  \n",
       "2020-06-01                       459700.0                            445700.0  \n",
       "2020-07-01                       469400.0                            456000.0  \n",
       "2020-08-01                       481300.0                            471100.0  \n",
       "2020-09-01                       490300.0                            484200.0  "
      ]
     },
     "execution_count": 9,
     "metadata": {},
     "output_type": "execute_result"
    }
   ],
   "source": [
    "# concat data\n",
    "master_df = pd.concat([df_gta, df_barrie, df_hamilton, df_kitchener, df_niagara, df_pete], axis=\"columns\", join='inner')\n",
    "master_df.tail()"
   ]
  },
  {
   "cell_type": "code",
   "execution_count": 10,
   "metadata": {},
   "outputs": [
    {
     "data": {
      "text/html": [
       "<div>\n",
       "<style scoped>\n",
       "    .dataframe tbody tr th:only-of-type {\n",
       "        vertical-align: middle;\n",
       "    }\n",
       "\n",
       "    .dataframe tbody tr th {\n",
       "        vertical-align: top;\n",
       "    }\n",
       "\n",
       "    .dataframe thead th {\n",
       "        text-align: right;\n",
       "    }\n",
       "</style>\n",
       "<table border=\"1\" class=\"dataframe\">\n",
       "  <thead>\n",
       "    <tr style=\"text-align: right;\">\n",
       "      <th></th>\n",
       "      <th>Barrie Composite House Price</th>\n",
       "      <th>Hamilton Composite House Price</th>\n",
       "      <th>Kitchener Composite House Price</th>\n",
       "      <th>Niagara Composite House Price</th>\n",
       "      <th>Peterborough Composite House Price</th>\n",
       "    </tr>\n",
       "    <tr>\n",
       "      <th>Date</th>\n",
       "      <th></th>\n",
       "      <th></th>\n",
       "      <th></th>\n",
       "      <th></th>\n",
       "      <th></th>\n",
       "    </tr>\n",
       "  </thead>\n",
       "  <tbody>\n",
       "    <tr>\n",
       "      <th>2020-05-01</th>\n",
       "      <td>512900.0</td>\n",
       "      <td>656000.0</td>\n",
       "      <td>548800.0</td>\n",
       "      <td>451700.0</td>\n",
       "      <td>440500.0</td>\n",
       "    </tr>\n",
       "    <tr>\n",
       "      <th>2020-06-01</th>\n",
       "      <td>520300.0</td>\n",
       "      <td>672600.0</td>\n",
       "      <td>561100.0</td>\n",
       "      <td>459700.0</td>\n",
       "      <td>445700.0</td>\n",
       "    </tr>\n",
       "    <tr>\n",
       "      <th>2020-07-01</th>\n",
       "      <td>525900.0</td>\n",
       "      <td>685100.0</td>\n",
       "      <td>572000.0</td>\n",
       "      <td>469400.0</td>\n",
       "      <td>456000.0</td>\n",
       "    </tr>\n",
       "    <tr>\n",
       "      <th>2020-08-01</th>\n",
       "      <td>537800.0</td>\n",
       "      <td>702000.0</td>\n",
       "      <td>583700.0</td>\n",
       "      <td>481300.0</td>\n",
       "      <td>471100.0</td>\n",
       "    </tr>\n",
       "    <tr>\n",
       "      <th>2020-09-01</th>\n",
       "      <td>549700.0</td>\n",
       "      <td>717700.0</td>\n",
       "      <td>588800.0</td>\n",
       "      <td>490300.0</td>\n",
       "      <td>484200.0</td>\n",
       "    </tr>\n",
       "  </tbody>\n",
       "</table>\n",
       "</div>"
      ],
      "text/plain": [
       "            Barrie Composite House Price  Hamilton Composite House Price  \\\n",
       "Date                                                                       \n",
       "2020-05-01                      512900.0                        656000.0   \n",
       "2020-06-01                      520300.0                        672600.0   \n",
       "2020-07-01                      525900.0                        685100.0   \n",
       "2020-08-01                      537800.0                        702000.0   \n",
       "2020-09-01                      549700.0                        717700.0   \n",
       "\n",
       "            Kitchener Composite House Price  Niagara Composite House Price  \\\n",
       "Date                                                                         \n",
       "2020-05-01                         548800.0                       451700.0   \n",
       "2020-06-01                         561100.0                       459700.0   \n",
       "2020-07-01                         572000.0                       469400.0   \n",
       "2020-08-01                         583700.0                       481300.0   \n",
       "2020-09-01                         588800.0                       490300.0   \n",
       "\n",
       "            Peterborough Composite House Price  \n",
       "Date                                            \n",
       "2020-05-01                            440500.0  \n",
       "2020-06-01                            445700.0  \n",
       "2020-07-01                            456000.0  \n",
       "2020-08-01                            471100.0  \n",
       "2020-09-01                            484200.0  "
      ]
     },
     "execution_count": 10,
     "metadata": {},
     "output_type": "execute_result"
    }
   ],
   "source": [
    "# setting x-variables\n",
    "x_var_list = ['Barrie Composite House Price', \n",
    "              'Hamilton Composite House Price', \n",
    "              'Kitchener Composite House Price', \n",
    "              'Niagara Composite House Price', \n",
    "              'Peterborough Composite House Price']\n",
    "master_df[x_var_list].tail()"
   ]
  },
  {
   "cell_type": "code",
   "execution_count": 11,
   "metadata": {},
   "outputs": [
    {
     "data": {
      "text/html": [
       "<div>\n",
       "<style scoped>\n",
       "    .dataframe tbody tr th:only-of-type {\n",
       "        vertical-align: middle;\n",
       "    }\n",
       "\n",
       "    .dataframe tbody tr th {\n",
       "        vertical-align: top;\n",
       "    }\n",
       "\n",
       "    .dataframe thead th {\n",
       "        text-align: right;\n",
       "    }\n",
       "</style>\n",
       "<table border=\"1\" class=\"dataframe\">\n",
       "  <thead>\n",
       "    <tr style=\"text-align: right;\">\n",
       "      <th></th>\n",
       "      <th>Barrie Composite House Price</th>\n",
       "      <th>Hamilton Composite House Price</th>\n",
       "      <th>Kitchener Composite House Price</th>\n",
       "      <th>Niagara Composite House Price</th>\n",
       "      <th>Peterborough Composite House Price</th>\n",
       "    </tr>\n",
       "    <tr>\n",
       "      <th>Date</th>\n",
       "      <th></th>\n",
       "      <th></th>\n",
       "      <th></th>\n",
       "      <th></th>\n",
       "      <th></th>\n",
       "    </tr>\n",
       "  </thead>\n",
       "  <tbody>\n",
       "    <tr>\n",
       "      <th>2020-05-01</th>\n",
       "      <td>509600.0</td>\n",
       "      <td>651700.0</td>\n",
       "      <td>523500.0</td>\n",
       "      <td>454300.0</td>\n",
       "      <td>440900.0</td>\n",
       "    </tr>\n",
       "    <tr>\n",
       "      <th>2020-06-01</th>\n",
       "      <td>512900.0</td>\n",
       "      <td>656000.0</td>\n",
       "      <td>548800.0</td>\n",
       "      <td>451700.0</td>\n",
       "      <td>440500.0</td>\n",
       "    </tr>\n",
       "    <tr>\n",
       "      <th>2020-07-01</th>\n",
       "      <td>520300.0</td>\n",
       "      <td>672600.0</td>\n",
       "      <td>561100.0</td>\n",
       "      <td>459700.0</td>\n",
       "      <td>445700.0</td>\n",
       "    </tr>\n",
       "    <tr>\n",
       "      <th>2020-08-01</th>\n",
       "      <td>525900.0</td>\n",
       "      <td>685100.0</td>\n",
       "      <td>572000.0</td>\n",
       "      <td>469400.0</td>\n",
       "      <td>456000.0</td>\n",
       "    </tr>\n",
       "    <tr>\n",
       "      <th>2020-09-01</th>\n",
       "      <td>537800.0</td>\n",
       "      <td>702000.0</td>\n",
       "      <td>583700.0</td>\n",
       "      <td>481300.0</td>\n",
       "      <td>471100.0</td>\n",
       "    </tr>\n",
       "  </tbody>\n",
       "</table>\n",
       "</div>"
      ],
      "text/plain": [
       "            Barrie Composite House Price  Hamilton Composite House Price  \\\n",
       "Date                                                                       \n",
       "2020-05-01                      509600.0                        651700.0   \n",
       "2020-06-01                      512900.0                        656000.0   \n",
       "2020-07-01                      520300.0                        672600.0   \n",
       "2020-08-01                      525900.0                        685100.0   \n",
       "2020-09-01                      537800.0                        702000.0   \n",
       "\n",
       "            Kitchener Composite House Price  Niagara Composite House Price  \\\n",
       "Date                                                                         \n",
       "2020-05-01                         523500.0                       454300.0   \n",
       "2020-06-01                         548800.0                       451700.0   \n",
       "2020-07-01                         561100.0                       459700.0   \n",
       "2020-08-01                         572000.0                       469400.0   \n",
       "2020-09-01                         583700.0                       481300.0   \n",
       "\n",
       "            Peterborough Composite House Price  \n",
       "Date                                            \n",
       "2020-05-01                            440900.0  \n",
       "2020-06-01                            440500.0  \n",
       "2020-07-01                            445700.0  \n",
       "2020-08-01                            456000.0  \n",
       "2020-09-01                            471100.0  "
      ]
     },
     "execution_count": 11,
     "metadata": {},
     "output_type": "execute_result"
    }
   ],
   "source": [
    "# Shift DataFrame values by 1 = this will shift data points forward one month so\n",
    "# that we are using previous months data to predict current month y variable.\n",
    "master_df[x_var_list] = master_df[x_var_list].shift(1)\n",
    "master_df[x_var_list].tail()"
   ]
  },
  {
   "cell_type": "code",
   "execution_count": 12,
   "metadata": {},
   "outputs": [
    {
     "data": {
      "text/plain": [
       "GTA Composite House Price             0\n",
       "Barrie Composite House Price          0\n",
       "Hamilton Composite House Price        0\n",
       "Kitchener Composite House Price       0\n",
       "Niagara Composite House Price         0\n",
       "Peterborough Composite House Price    0\n",
       "dtype: int64"
      ]
     },
     "execution_count": 12,
     "metadata": {},
     "output_type": "execute_result"
    }
   ],
   "source": [
    "# Drop NAs and replace positive/negative infinity values\n",
    "master_df.dropna(subset=x_var_list, inplace=True)\n",
    "master_df = master_df.replace([np.inf, -np.inf], np.nan)\n",
    "master_df.isnull().sum()"
   ]
  },
  {
   "cell_type": "markdown",
   "metadata": {},
   "source": [
    "## Split data into training and testing datasets"
   ]
  },
  {
   "cell_type": "code",
   "execution_count": 13,
   "metadata": {},
   "outputs": [
    {
     "name": "stdout",
     "output_type": "stream",
     "text": [
      "188\n"
     ]
    },
    {
     "data": {
      "text/plain": [
       "GTA Composite House Price             586000.0\n",
       "Barrie Composite House Price          365800.0\n",
       "Hamilton Composite House Price        426200.0\n",
       "Kitchener Composite House Price       328100.0\n",
       "Niagara Composite House Price         254300.0\n",
       "Peterborough Composite House Price    269000.0\n",
       "Name: 2016-01-01 00:00:00, dtype: float64"
      ]
     },
     "execution_count": 13,
     "metadata": {},
     "output_type": "execute_result"
    }
   ],
   "source": [
    "# Calculate the 70 percentile to split data into train/test \n",
    "print(len(master_df))\n",
    "188*0.7\n",
    "master_df.iloc[131]\n",
    "# 242*0.7\n",
    "# master_df.iloc[170]"
   ]
  },
  {
   "cell_type": "code",
   "execution_count": 14,
   "metadata": {},
   "outputs": [
    {
     "name": "stdout",
     "output_type": "stream",
     "text": [
      "Training Start: 2005-02-01\n",
      "Training End: 2016-01-01\n",
      "Testing Start: 2016-02-01\n",
      "Testing End: 2020-09-01\n"
     ]
    }
   ],
   "source": [
    "# Construct training start and end dates\n",
    "training_start = master_df.index.min().strftime(format= '%Y-%m-%d')\n",
    "training_end = '2016-01-01'\n",
    "\n",
    "# Construct testing start and end dates\n",
    "testing_start =  '2016-02-01'\n",
    "testing_end = master_df.index.max().strftime(format= '%Y-%m-%d')\n",
    "\n",
    "# Print training and testing start/end dates\n",
    "print(f\"Training Start: {training_start}\")\n",
    "print(f\"Training End: {training_end}\")\n",
    "print(f\"Testing Start: {testing_start}\")\n",
    "print(f\"Testing End: {testing_end}\")"
   ]
  },
  {
   "cell_type": "code",
   "execution_count": 15,
   "metadata": {},
   "outputs": [],
   "source": [
    "# Construct the x train and y train datasets\n",
    "X_train = master_df[x_var_list][training_start:training_end]\n",
    "y_train = master_df['GTA Composite House Price'][training_start:training_end]"
   ]
  },
  {
   "cell_type": "code",
   "execution_count": 16,
   "metadata": {},
   "outputs": [
    {
     "data": {
      "text/plain": [
       "Date\n",
       "2020-05-01    860400.0\n",
       "2020-06-01    857500.0\n",
       "2020-07-01    878100.0\n",
       "2020-08-01    889800.0\n",
       "2020-09-01    899500.0\n",
       "Name: GTA Composite House Price, dtype: float64"
      ]
     },
     "execution_count": 16,
     "metadata": {},
     "output_type": "execute_result"
    }
   ],
   "source": [
    "# Construct the x test and y test datasets\n",
    "X_test = master_df[x_var_list][testing_start:testing_end]\n",
    "y_test = master_df['GTA Composite House Price'][testing_start:testing_end]\n",
    "\n",
    "y_test.tail()"
   ]
  },
  {
   "cell_type": "markdown",
   "metadata": {},
   "source": [
    "## Scale data"
   ]
  },
  {
   "cell_type": "code",
   "execution_count": 17,
   "metadata": {},
   "outputs": [],
   "source": [
    "# Scaling data\n",
    "from sklearn.preprocessing import StandardScaler\n",
    "from sklearn.preprocessing import MinMaxScaler\n",
    "scaler = MinMaxScaler()\n",
    "X_scaler = scaler.fit(X_train)\n",
    "\n",
    "X_train_scaled = X_scaler.transform(X_train)\n",
    "X_test_scaled = X_scaler.transform(X_test)"
   ]
  },
  {
   "cell_type": "markdown",
   "metadata": {},
   "source": [
    "## Build the model"
   ]
  },
  {
   "cell_type": "code",
   "execution_count": 18,
   "metadata": {},
   "outputs": [
    {
     "data": {
      "text/plain": [
       "LinearRegression()"
      ]
     },
     "execution_count": 18,
     "metadata": {},
     "output_type": "execute_result"
    }
   ],
   "source": [
    "from sklearn.linear_model import LinearRegression\n",
    "model = LinearRegression()\n",
    "model.fit(X_train_scaled, y_train)"
   ]
  },
  {
   "cell_type": "code",
   "execution_count": 19,
   "metadata": {},
   "outputs": [
    {
     "data": {
      "text/plain": [
       "0.9948561417345968"
      ]
     },
     "execution_count": 19,
     "metadata": {},
     "output_type": "execute_result"
    }
   ],
   "source": [
    "model.score(X_train_scaled, y_train)"
   ]
  },
  {
   "cell_type": "code",
   "execution_count": 20,
   "metadata": {},
   "outputs": [
    {
     "data": {
      "text/plain": [
       "array([-62820.46029055, 342625.00623666,  58033.94831429, -90742.62840862,\n",
       "        34242.37997169])"
      ]
     },
     "execution_count": 20,
     "metadata": {},
     "output_type": "execute_result"
    }
   ],
   "source": [
    "model.coef_"
   ]
  },
  {
   "cell_type": "code",
   "execution_count": 21,
   "metadata": {},
   "outputs": [
    {
     "data": {
      "text/plain": [
       "303942.339732471"
      ]
     },
     "execution_count": 21,
     "metadata": {},
     "output_type": "execute_result"
    }
   ],
   "source": [
    "model.intercept_"
   ]
  },
  {
   "cell_type": "code",
   "execution_count": 28,
   "metadata": {},
   "outputs": [
    {
     "data": {
      "text/html": [
       "<div>\n",
       "<style scoped>\n",
       "    .dataframe tbody tr th:only-of-type {\n",
       "        vertical-align: middle;\n",
       "    }\n",
       "\n",
       "    .dataframe tbody tr th {\n",
       "        vertical-align: top;\n",
       "    }\n",
       "\n",
       "    .dataframe thead th {\n",
       "        text-align: right;\n",
       "    }\n",
       "</style>\n",
       "<table border=\"1\" class=\"dataframe\">\n",
       "  <thead>\n",
       "    <tr style=\"text-align: right;\">\n",
       "      <th></th>\n",
       "      <th>GTA Composite House Price</th>\n",
       "      <th>Model Predicted Value</th>\n",
       "    </tr>\n",
       "    <tr>\n",
       "      <th>Date</th>\n",
       "      <th></th>\n",
       "      <th></th>\n",
       "    </tr>\n",
       "  </thead>\n",
       "  <tbody>\n",
       "    <tr>\n",
       "      <th>2019-02-01</th>\n",
       "      <td>772400.0</td>\n",
       "      <td>778014.379095</td>\n",
       "    </tr>\n",
       "    <tr>\n",
       "      <th>2019-03-01</th>\n",
       "      <td>774900.0</td>\n",
       "      <td>787274.922270</td>\n",
       "    </tr>\n",
       "    <tr>\n",
       "      <th>2019-04-01</th>\n",
       "      <td>780300.0</td>\n",
       "      <td>788088.927707</td>\n",
       "    </tr>\n",
       "    <tr>\n",
       "      <th>2019-05-01</th>\n",
       "      <td>784700.0</td>\n",
       "      <td>820969.028899</td>\n",
       "    </tr>\n",
       "    <tr>\n",
       "      <th>2019-06-01</th>\n",
       "      <td>790700.0</td>\n",
       "      <td>805875.807253</td>\n",
       "    </tr>\n",
       "    <tr>\n",
       "      <th>2019-07-01</th>\n",
       "      <td>797000.0</td>\n",
       "      <td>814522.972981</td>\n",
       "    </tr>\n",
       "    <tr>\n",
       "      <th>2019-08-01</th>\n",
       "      <td>802300.0</td>\n",
       "      <td>813185.400184</td>\n",
       "    </tr>\n",
       "    <tr>\n",
       "      <th>2019-09-01</th>\n",
       "      <td>807200.0</td>\n",
       "      <td>824631.863425</td>\n",
       "    </tr>\n",
       "    <tr>\n",
       "      <th>2019-10-01</th>\n",
       "      <td>813800.0</td>\n",
       "      <td>828022.794637</td>\n",
       "    </tr>\n",
       "    <tr>\n",
       "      <th>2019-11-01</th>\n",
       "      <td>821700.0</td>\n",
       "      <td>838640.587455</td>\n",
       "    </tr>\n",
       "    <tr>\n",
       "      <th>2019-12-01</th>\n",
       "      <td>827000.0</td>\n",
       "      <td>838048.544997</td>\n",
       "    </tr>\n",
       "    <tr>\n",
       "      <th>2020-01-01</th>\n",
       "      <td>837200.0</td>\n",
       "      <td>832272.523578</td>\n",
       "    </tr>\n",
       "    <tr>\n",
       "      <th>2020-02-01</th>\n",
       "      <td>846200.0</td>\n",
       "      <td>843698.951227</td>\n",
       "    </tr>\n",
       "    <tr>\n",
       "      <th>2020-03-01</th>\n",
       "      <td>859300.0</td>\n",
       "      <td>855135.879169</td>\n",
       "    </tr>\n",
       "    <tr>\n",
       "      <th>2020-04-01</th>\n",
       "      <td>861200.0</td>\n",
       "      <td>857480.663581</td>\n",
       "    </tr>\n",
       "    <tr>\n",
       "      <th>2020-05-01</th>\n",
       "      <td>860400.0</td>\n",
       "      <td>848327.284753</td>\n",
       "    </tr>\n",
       "    <tr>\n",
       "      <th>2020-06-01</th>\n",
       "      <td>857500.0</td>\n",
       "      <td>868320.756708</td>\n",
       "    </tr>\n",
       "    <tr>\n",
       "      <th>2020-07-01</th>\n",
       "      <td>878100.0</td>\n",
       "      <td>892345.295956</td>\n",
       "    </tr>\n",
       "    <tr>\n",
       "      <th>2020-08-01</th>\n",
       "      <td>889800.0</td>\n",
       "      <td>909785.031419</td>\n",
       "    </tr>\n",
       "    <tr>\n",
       "      <th>2020-09-01</th>\n",
       "      <td>899500.0</td>\n",
       "      <td>932143.345786</td>\n",
       "    </tr>\n",
       "  </tbody>\n",
       "</table>\n",
       "</div>"
      ],
      "text/plain": [
       "            GTA Composite House Price  Model Predicted Value\n",
       "Date                                                        \n",
       "2019-02-01                   772400.0          778014.379095\n",
       "2019-03-01                   774900.0          787274.922270\n",
       "2019-04-01                   780300.0          788088.927707\n",
       "2019-05-01                   784700.0          820969.028899\n",
       "2019-06-01                   790700.0          805875.807253\n",
       "2019-07-01                   797000.0          814522.972981\n",
       "2019-08-01                   802300.0          813185.400184\n",
       "2019-09-01                   807200.0          824631.863425\n",
       "2019-10-01                   813800.0          828022.794637\n",
       "2019-11-01                   821700.0          838640.587455\n",
       "2019-12-01                   827000.0          838048.544997\n",
       "2020-01-01                   837200.0          832272.523578\n",
       "2020-02-01                   846200.0          843698.951227\n",
       "2020-03-01                   859300.0          855135.879169\n",
       "2020-04-01                   861200.0          857480.663581\n",
       "2020-05-01                   860400.0          848327.284753\n",
       "2020-06-01                   857500.0          868320.756708\n",
       "2020-07-01                   878100.0          892345.295956\n",
       "2020-08-01                   889800.0          909785.031419\n",
       "2020-09-01                   899500.0          932143.345786"
      ]
     },
     "execution_count": 28,
     "metadata": {},
     "output_type": "execute_result"
    }
   ],
   "source": [
    "# Make predictions of y values from the x test dataset\n",
    "predictions = model.predict(X_test_scaled)\n",
    "\n",
    "# Assemble actual y data (Y_test) with predicted y data into two columns in a dataframe to compare:\n",
    "Results = y_test.to_frame()\n",
    "Results[\"Model Predicted Value\"] = predictions\n",
    "Results.tail(20)"
   ]
  },
  {
   "cell_type": "code",
   "execution_count": 39,
   "metadata": {},
   "outputs": [
    {
     "data": {
      "image/png": "[encoded data removed]",
      "text/plain": [
       "<Figure size 1080x576 with 1 Axes>"
      ]
     },
     "metadata": {
      "needs_background": "light"
     },
     "output_type": "display_data"
    }
   ],
   "source": [
    "# Plotting the results\n",
    "plt.subplots(figsize=(15,8))\n",
    "plt.plot(Results)\n",
    "\n",
    "plt.legend([\"GTA Composite House Price\", \n",
    "            \"Model Predicted Value\",\n",
    "           ], \n",
    "           prop={'size': 16})\n",
    "plt.xlabel(\"Date\")\n",
    "plt.ylabel(\"Dollar Amount ($)\")\n",
    "plt.title(f\"Actual Composite House Price for the GTA vs. Predicted Value\", fontdict={'fontweight':'bold', 'fontsize':'18'})\n",
    "plt.show()\n"
   ]
  },
  {
   "cell_type": "code",
   "execution_count": 25,
   "metadata": {},
   "outputs": [],
   "source": [
    "from sklearn.metrics import mean_squared_error, r2_score"
   ]
  },
  {
   "cell_type": "code",
   "execution_count": 26,
   "metadata": {},
   "outputs": [
    {
     "name": "stdout",
     "output_type": "stream",
     "text": [
      "Coefficient of determination: 0.82\n"
     ]
    }
   ],
   "source": [
    "print('Coefficient of determination: %.2f'\n",
    "      % r2_score(y_test, predictions))"
   ]
  },
  {
   "cell_type": "code",
   "execution_count": 27,
   "metadata": {},
   "outputs": [
    {
     "name": "stdout",
     "output_type": "stream",
     "text": [
      "Mean Squared Error: 913518615.53\n"
     ]
    }
   ],
   "source": [
    "print('Mean Squared Error: %.2f'\n",
    "      % mean_squared_error(y_test, predictions))"
   ]
  },
  {
   "cell_type": "code",
   "execution_count": 31,
   "metadata": {},
   "outputs": [
    {
     "ename": "ValueError",
     "evalue": "x and y must be the same size",
     "output_type": "error",
     "traceback": [
      "\u001b[1;31m---------------------------------------------------------------------------\u001b[0m",
      "\u001b[1;31mValueError\u001b[0m                                Traceback (most recent call last)",
      "\u001b[1;32m<ipython-input-31-01e93e4b0953>\u001b[0m in \u001b[0;36m<module>\u001b[1;34m\u001b[0m\n\u001b[0;32m      1\u001b[0m \u001b[1;31m# Plot X and y as a scatter plot\u001b[0m\u001b[1;33m\u001b[0m\u001b[1;33m\u001b[0m\u001b[1;33m\u001b[0m\u001b[0m\n\u001b[0;32m      2\u001b[0m \u001b[1;31m# Plot X and the predictions as a red line plot\u001b[0m\u001b[1;33m\u001b[0m\u001b[1;33m\u001b[0m\u001b[1;33m\u001b[0m\u001b[0m\n\u001b[1;32m----> 3\u001b[1;33m \u001b[0mplt\u001b[0m\u001b[1;33m.\u001b[0m\u001b[0mscatter\u001b[0m\u001b[1;33m(\u001b[0m\u001b[0mX_test_scaled\u001b[0m\u001b[1;33m,\u001b[0m \u001b[0my_test\u001b[0m\u001b[1;33m)\u001b[0m\u001b[1;33m\u001b[0m\u001b[1;33m\u001b[0m\u001b[0m\n\u001b[0m\u001b[0;32m      4\u001b[0m \u001b[0mplt\u001b[0m\u001b[1;33m.\u001b[0m\u001b[0mplot\u001b[0m\u001b[1;33m(\u001b[0m\u001b[0mX_test_scaled\u001b[0m\u001b[1;33m,\u001b[0m \u001b[0mpredicted_y_values\u001b[0m\u001b[1;33m,\u001b[0m \u001b[0mcolor\u001b[0m\u001b[1;33m=\u001b[0m\u001b[1;34m'red'\u001b[0m\u001b[1;33m)\u001b[0m\u001b[1;33m\u001b[0m\u001b[1;33m\u001b[0m\u001b[0m\n",
      "\u001b[1;32m~\\anaconda3\\envs\\dev\\lib\\site-packages\\matplotlib\\pyplot.py\u001b[0m in \u001b[0;36mscatter\u001b[1;34m(x, y, s, c, marker, cmap, norm, vmin, vmax, alpha, linewidths, verts, edgecolors, plotnonfinite, data, **kwargs)\u001b[0m\n\u001b[0;32m   2814\u001b[0m         \u001b[0mverts\u001b[0m\u001b[1;33m=\u001b[0m\u001b[0mverts\u001b[0m\u001b[1;33m,\u001b[0m \u001b[0medgecolors\u001b[0m\u001b[1;33m=\u001b[0m\u001b[0medgecolors\u001b[0m\u001b[1;33m,\u001b[0m\u001b[1;33m\u001b[0m\u001b[1;33m\u001b[0m\u001b[0m\n\u001b[0;32m   2815\u001b[0m         plotnonfinite=plotnonfinite, **({\"data\": data} if data is not\n\u001b[1;32m-> 2816\u001b[1;33m         None else {}), **kwargs)\n\u001b[0m\u001b[0;32m   2817\u001b[0m     \u001b[0msci\u001b[0m\u001b[1;33m(\u001b[0m\u001b[0m__ret\u001b[0m\u001b[1;33m)\u001b[0m\u001b[1;33m\u001b[0m\u001b[1;33m\u001b[0m\u001b[0m\n\u001b[0;32m   2818\u001b[0m     \u001b[1;32mreturn\u001b[0m \u001b[0m__ret\u001b[0m\u001b[1;33m\u001b[0m\u001b[1;33m\u001b[0m\u001b[0m\n",
      "\u001b[1;32m~\\anaconda3\\envs\\dev\\lib\\site-packages\\matplotlib\\__init__.py\u001b[0m in \u001b[0;36minner\u001b[1;34m(ax, data, *args, **kwargs)\u001b[0m\n\u001b[0;32m   1563\u001b[0m     \u001b[1;32mdef\u001b[0m \u001b[0minner\u001b[0m\u001b[1;33m(\u001b[0m\u001b[0max\u001b[0m\u001b[1;33m,\u001b[0m \u001b[1;33m*\u001b[0m\u001b[0margs\u001b[0m\u001b[1;33m,\u001b[0m \u001b[0mdata\u001b[0m\u001b[1;33m=\u001b[0m\u001b[1;32mNone\u001b[0m\u001b[1;33m,\u001b[0m \u001b[1;33m**\u001b[0m\u001b[0mkwargs\u001b[0m\u001b[1;33m)\u001b[0m\u001b[1;33m:\u001b[0m\u001b[1;33m\u001b[0m\u001b[1;33m\u001b[0m\u001b[0m\n\u001b[0;32m   1564\u001b[0m         \u001b[1;32mif\u001b[0m \u001b[0mdata\u001b[0m \u001b[1;32mis\u001b[0m \u001b[1;32mNone\u001b[0m\u001b[1;33m:\u001b[0m\u001b[1;33m\u001b[0m\u001b[1;33m\u001b[0m\u001b[0m\n\u001b[1;32m-> 1565\u001b[1;33m             \u001b[1;32mreturn\u001b[0m \u001b[0mfunc\u001b[0m\u001b[1;33m(\u001b[0m\u001b[0max\u001b[0m\u001b[1;33m,\u001b[0m \u001b[1;33m*\u001b[0m\u001b[0mmap\u001b[0m\u001b[1;33m(\u001b[0m\u001b[0msanitize_sequence\u001b[0m\u001b[1;33m,\u001b[0m \u001b[0margs\u001b[0m\u001b[1;33m)\u001b[0m\u001b[1;33m,\u001b[0m \u001b[1;33m**\u001b[0m\u001b[0mkwargs\u001b[0m\u001b[1;33m)\u001b[0m\u001b[1;33m\u001b[0m\u001b[1;33m\u001b[0m\u001b[0m\n\u001b[0m\u001b[0;32m   1566\u001b[0m \u001b[1;33m\u001b[0m\u001b[0m\n\u001b[0;32m   1567\u001b[0m         \u001b[0mbound\u001b[0m \u001b[1;33m=\u001b[0m \u001b[0mnew_sig\u001b[0m\u001b[1;33m.\u001b[0m\u001b[0mbind\u001b[0m\u001b[1;33m(\u001b[0m\u001b[0max\u001b[0m\u001b[1;33m,\u001b[0m \u001b[1;33m*\u001b[0m\u001b[0margs\u001b[0m\u001b[1;33m,\u001b[0m \u001b[1;33m**\u001b[0m\u001b[0mkwargs\u001b[0m\u001b[1;33m)\u001b[0m\u001b[1;33m\u001b[0m\u001b[1;33m\u001b[0m\u001b[0m\n",
      "\u001b[1;32m~\\anaconda3\\envs\\dev\\lib\\site-packages\\matplotlib\\cbook\\deprecation.py\u001b[0m in \u001b[0;36mwrapper\u001b[1;34m(*args, **kwargs)\u001b[0m\n\u001b[0;32m    356\u001b[0m                 \u001b[1;34mf\"%(removal)s.  If any parameter follows {name!r}, they \"\u001b[0m\u001b[1;33m\u001b[0m\u001b[1;33m\u001b[0m\u001b[0m\n\u001b[0;32m    357\u001b[0m                 f\"should be pass as keyword, not positionally.\")\n\u001b[1;32m--> 358\u001b[1;33m         \u001b[1;32mreturn\u001b[0m \u001b[0mfunc\u001b[0m\u001b[1;33m(\u001b[0m\u001b[1;33m*\u001b[0m\u001b[0margs\u001b[0m\u001b[1;33m,\u001b[0m \u001b[1;33m**\u001b[0m\u001b[0mkwargs\u001b[0m\u001b[1;33m)\u001b[0m\u001b[1;33m\u001b[0m\u001b[1;33m\u001b[0m\u001b[0m\n\u001b[0m\u001b[0;32m    359\u001b[0m \u001b[1;33m\u001b[0m\u001b[0m\n\u001b[0;32m    360\u001b[0m     \u001b[1;32mreturn\u001b[0m \u001b[0mwrapper\u001b[0m\u001b[1;33m\u001b[0m\u001b[1;33m\u001b[0m\u001b[0m\n",
      "\u001b[1;32m~\\anaconda3\\envs\\dev\\lib\\site-packages\\matplotlib\\axes\\_axes.py\u001b[0m in \u001b[0;36mscatter\u001b[1;34m(self, x, y, s, c, marker, cmap, norm, vmin, vmax, alpha, linewidths, verts, edgecolors, plotnonfinite, **kwargs)\u001b[0m\n\u001b[0;32m   4389\u001b[0m         \u001b[0my\u001b[0m \u001b[1;33m=\u001b[0m \u001b[0mnp\u001b[0m\u001b[1;33m.\u001b[0m\u001b[0mma\u001b[0m\u001b[1;33m.\u001b[0m\u001b[0mravel\u001b[0m\u001b[1;33m(\u001b[0m\u001b[0my\u001b[0m\u001b[1;33m)\u001b[0m\u001b[1;33m\u001b[0m\u001b[1;33m\u001b[0m\u001b[0m\n\u001b[0;32m   4390\u001b[0m         \u001b[1;32mif\u001b[0m \u001b[0mx\u001b[0m\u001b[1;33m.\u001b[0m\u001b[0msize\u001b[0m \u001b[1;33m!=\u001b[0m \u001b[0my\u001b[0m\u001b[1;33m.\u001b[0m\u001b[0msize\u001b[0m\u001b[1;33m:\u001b[0m\u001b[1;33m\u001b[0m\u001b[1;33m\u001b[0m\u001b[0m\n\u001b[1;32m-> 4391\u001b[1;33m             \u001b[1;32mraise\u001b[0m \u001b[0mValueError\u001b[0m\u001b[1;33m(\u001b[0m\u001b[1;34m\"x and y must be the same size\"\u001b[0m\u001b[1;33m)\u001b[0m\u001b[1;33m\u001b[0m\u001b[1;33m\u001b[0m\u001b[0m\n\u001b[0m\u001b[0;32m   4392\u001b[0m \u001b[1;33m\u001b[0m\u001b[0m\n\u001b[0;32m   4393\u001b[0m         \u001b[1;32mif\u001b[0m \u001b[0ms\u001b[0m \u001b[1;32mis\u001b[0m \u001b[1;32mNone\u001b[0m\u001b[1;33m:\u001b[0m\u001b[1;33m\u001b[0m\u001b[1;33m\u001b[0m\u001b[0m\n",
      "\u001b[1;31mValueError\u001b[0m: x and y must be the same size"
     ]
    },
    {
     "data": {
      "image/png": "[encoded data removed]",
      "text/plain": [
       "<Figure size 432x288 with 1 Axes>"
      ]
     },
     "metadata": {
      "needs_background": "light"
     },
     "output_type": "display_data"
    }
   ],
   "source": [
    "# Plot X and y as a scatter plot\n",
    "# Plot X and the predictions as a red line plot\n",
    "plt.scatter(X_test_scaled, y_test)\n",
    "plt.plot(X_test_scaled, predicted_y_values, color='red')"
   ]
  },
  {
   "cell_type": "code",
   "execution_count": null,
   "metadata": {},
   "outputs": [],
   "source": []
  }
 ],
 "metadata": {
  "kernelspec": {
   "display_name": "Python 3.7.7 64-bit ('dev': conda)",
   "language": "python",
   "name": "python37764bitdevconda7e601aba10424412994ad048d99c33ec"
  },
  "language_info": {
   "codemirror_mode": {
    "name": "ipython",
    "version": 3
   },
   "file_extension": ".py",
   "mimetype": "text/x-python",
   "name": "python",
   "nbconvert_exporter": "python",
   "pygments_lexer": "ipython3",
   "version": "3.7.7"
  }
 },
 "nbformat": 4,
 "nbformat_minor": 4
}
